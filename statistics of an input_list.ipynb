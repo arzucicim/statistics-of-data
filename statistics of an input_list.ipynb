{
 "cells": [
  {
   "cell_type": "code",
   "execution_count": 1,
   "id": "c395e160-f2fb-4c9a-a99e-e5d4f43e98b9",
   "metadata": {},
   "outputs": [],
   "source": [
    "def get_statistics(input_list):\n",
    "    \"\"\"\n",
    "    This function returns statistics of a list of numbers\n",
    "    \"\"\"\n",
    "    n = len(input_list)\n",
    "    mean = sum(input_list) / n\n",
    "\n",
    "    sorted_input_list = sorted(input_list)\n",
    "    \n",
    "    if n % 2 == 0:\n",
    "        median = (sorted_input_list[int(n/2 - 1)] + sorted_input_list[int(n/2)]) / 2\n",
    "    else:\n",
    "        median = sorted_input_list[int((n + 1) / 2)]\n",
    "        \n",
    "    number_counts = {i:input_list.count(i) for i in input_list}\n",
    "    mode = max(input_list, key= lambda k: number_counts[k])\n",
    "    \n",
    "    variance = sum([(i - mean)**2 for i in input_list]) / n\n",
    "    \n",
    "    standard_deviation = variance ** 0.5\n",
    "    standard_error = standard_deviation / (n ** 0.5)\n",
    "    z_score = 1.96\n",
    "    confidence_interval_mean = [mean - z_score * standard_error, mean + z_score * standard_error]\n",
    "    return {'mean': mean, \n",
    "           'median': median,\n",
    "           'mode': mode,\n",
    "           'variance': variance,\n",
    "           'standard_deviation': standard_deviation,\n",
    "           'confidence_interval_mean': confidence_interval_mean}"
   ]
  },
  {
   "cell_type": "code",
   "execution_count": 3,
   "id": "c1da0ee1-1443-450f-a3cb-211705174f97",
   "metadata": {},
   "outputs": [
    {
     "data": {
      "text/plain": [
       "{'mean': 21.555555555555557,\n",
       " 'median': 25,\n",
       " 'mode': 27,\n",
       " 'variance': 44.91358024691358,\n",
       " 'standard_deviation': 6.701759488888987,\n",
       " 'confidence_interval_mean': [17.17707268948142, 25.934038421629694]}"
      ]
     },
     "execution_count": 3,
     "metadata": {},
     "output_type": "execute_result"
    }
   ],
   "source": [
    "input_list = [27, 22, 33, 25, 26, 21, 15, 11, 14]\n",
    "get_statistics(input_list)"
   ]
  },
  {
   "cell_type": "code",
   "execution_count": null,
   "id": "84917b42-5639-4c0c-8a9b-35ab77a82a78",
   "metadata": {},
   "outputs": [],
   "source": []
  }
 ],
 "metadata": {
  "kernelspec": {
   "display_name": "Python 3 (ipykernel)",
   "language": "python",
   "name": "python3"
  },
  "language_info": {
   "codemirror_mode": {
    "name": "ipython",
    "version": 3
   },
   "file_extension": ".py",
   "mimetype": "text/x-python",
   "name": "python",
   "nbconvert_exporter": "python",
   "pygments_lexer": "ipython3",
   "version": "3.12.4"
  }
 },
 "nbformat": 4,
 "nbformat_minor": 5
}
